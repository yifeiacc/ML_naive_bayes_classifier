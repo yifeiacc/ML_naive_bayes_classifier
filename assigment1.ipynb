{
 "cells": [
  {
   "cell_type": "markdown",
   "metadata": {},
   "source": [
    "# Classification with Naive Bayes"
   ]
  },
  {
   "cell_type": "markdown",
   "metadata": {},
   "source": [
    "###### COMP4670/8600 - Introduction to Statistical Machine Learning - Assignment 1"
   ]
  },
  {
   "cell_type": "markdown",
   "metadata": {},
   "source": [
    "Name: <i>**Yifei zhang**</i>\n",
    "\n",
    "Student ID: <i>**u6001933**</i>"
   ]
  },
  {
   "cell_type": "markdown",
   "metadata": {},
   "source": [
    "## Instructions\n",
    "\n",
    "|             |Notes|\n",
    "|:------------|:--|\n",
    "|Maximum marks| 19|\n",
    "|Weight|19% of final grade|\n",
    "|Format| Complete this ipython notebook. Do not forget to fill in your name and student ID above|\n",
    "|Submission mode| Use [wattle](https://wattle.anu.edu.au/)|\n",
    "|Formulas| All formulas which you derive need to be explained unless you use very common mathematical facts. Picture yourself as explaining your arguments to somebody who is just learning about your assignment. With other words, do not assume that the person marking your assignment knows all the background and therefore you can just write down the formulas without any explanation. It is your task to convince the reader that you know what you are doing when you derive an argument. Typeset all formulas in $\\LaTeX$.|\n",
    "| Code quality | Python code should be well structured, use meaningful identifiers for variables and subroutines, and provide sufficient comments. Please refer to the examples given in the tutorials. |\n",
    "| Code efficiency | An efficient implementation of an algorithm uses fast subroutines provided by the language or additional libraries. For the purpose of implementing Machine Learning algorithms in this course, that means using the appropriate data structures provided by Python and in numpy/scipy (e.g. Linear Algebra and random generators). |\n",
    "| Late penalty | For every day (starts at midnight) after the deadline of an assignment, the mark will be reduced by 20%. No assignments shall be accepted if it is later than 5 days. | \n",
    "| Cooperation | All assignments must be done individually. Cheating and plagiarism will be dealt with in accordance with University procedures (please see the ANU policies on [Academic Honesty and Plagiarism](http://academichonesty.anu.edu.au)). Hence, for example, code for programming assignments must not be developed in groups, nor should code be shared. You are encouraged to broadly discuss ideas, approaches and techniques with a few other students, but not at a level of detail where specific solutions or implementation issues are described by anyone. If you choose to consult with other students, you will include the names of your discussion partners for each solution. If you have any questions on this, please ask the lecturer before you act. |\n",
    "| Solution | To be presented in the tutorials. |"
   ]
  },
  {
   "cell_type": "markdown",
   "metadata": {},
   "source": [
    "$\\newcommand{\\dotprod}[2]{\\left\\langle #1, #2 \\right\\rangle}$\n",
    "$\\newcommand{\\onevec}{\\mathbb{1}}$\n",
    "$\\newcommand{\\B}[1]{\\mathbf{#1}}$\n",
    "$\\newcommand{\\Bphi}{\\boldsymbol{\\mathsf{\\phi}}}$\n",
    "$\\newcommand{\\BPhi}{\\boldsymbol{\\Phi}}$\n",
    "$\\newcommand{\\Cond}{\\,|\\,}$\n",
    "$\\newcommand{\\DNorm}[3]{\\mathcal{N}(#1\\Cond#2, #3)}$\n",
    "$\\newcommand{\\DUniform}[3]{\\mathcal{U}(#1 \\Cond #2, #3)}$\n",
    "$\\newcommand{\\Ex}[2][]{\\mathbb{E}_{#1} \\left[ #2 \\right]}$\n",
    "$\\newcommand{\\var}[1]{\\operatorname{var}[#1]}$\n",
    "$\\newcommand{\\cov}[1]{\\operatorname{cov}[#1]}$\n",
    "$\\newcommand{\\Norm}[1]{\\lVert#1\\rVert}$\n",
    "$\\DeclareMathOperator*{\\argmax}{arg\\,max}$\n",
    "\n",
    "Setting up the environment (Please evaluate this cell to activate the $\\LaTeX$ macros.)"
   ]
  },
  {
   "cell_type": "code",
   "execution_count": 1,
   "metadata": {
    "collapsed": false
   },
   "outputs": [
    {
     "name": "stdout",
     "output_type": "stream",
     "text": [
      "[[ 0.]\n",
      " [ 0.]\n",
      " [ 0.]\n",
      " [ 0.]\n",
      " [ 1.]\n",
      " [ 1.]\n",
      " [ 1.]]\n"
     ]
    },
    {
     "data": {
      "text/plain": [
       "<function __main__.f>"
      ]
     },
     "execution_count": 1,
     "metadata": {},
     "output_type": "execute_result"
    }
   ],
   "source": [
    "import csv, scipy, scipy.stats, collections, itertools\n",
    "import matplotlib.pyplot as plt\n",
    "import numpy as np\n",
    "\n",
    "%matplotlib inline\n",
    "a = np.array([1,2,3,3,4,5,6])\n",
    "b= np.median(a)\n",
    "print ((a>b).astype(float).reshape(-1,1))\n",
    "def f(x):\n",
    "    return x+1\n",
    "preprocessor = collections.defaultdict(lambda: f)\n",
    "preprocessor[\"a\"] =1\n",
    "preprocessor[\"b\"]"
   ]
  },
  {
   "cell_type": "markdown",
   "metadata": {},
   "source": [
    "## The data set\n",
    "\n",
    "\n",
    "The data set contains census information. Our task is to predict whether an indivual earns more than some amount.\n",
    "\n",
    "Please download the following data:\n",
    "* https://archive.ics.uci.edu/ml/machine-learning-databases/adult/adult.data\n",
    "\n",
    "Read and preprocess the data."
   ]
  },
  {
   "cell_type": "code",
   "execution_count": 2,
   "metadata": {
    "collapsed": false
   },
   "outputs": [
    {
     "name": "stdout",
     "output_type": "stream",
     "text": [
      "1 \t age\n",
      "9 \t workclass\n",
      "1 \t fnlwgt\n",
      "16 \t education\n",
      "1 \t education_num\n",
      "7 \t marital_status\n",
      "15 \t occupation\n",
      "6 \t relationship\n",
      "5 \t race\n",
      "1 \t sex\n",
      "1 \t capital_gain\n",
      "1 \t capital_loss\n",
      "1 \t hours_per_week\n",
      "42 \t native_country\n"
     ]
    }
   ],
   "source": [
    "raw_data = np.genfromtxt(\"adult.data\", dtype=str, delimiter=',', autostrip=True)\n",
    "\n",
    "# targets\n",
    "target = \">50K\"\n",
    "target_column = raw_data[:,-1]\n",
    "Y = (target_column == target).reshape(-1,1)\n",
    "assert any(Y) and any(~Y), set(target_column)\n",
    "\n",
    "features = [\n",
    "    'age', 'workclass', 'fnlwgt','education', 'education_num', 'marital_status', \n",
    "    'occupation', 'relationship', 'race', 'sex', 'capital_gain', 'capital_loss', \n",
    "    'hours_per_week', 'native_country'\n",
    "]\n",
    "\n",
    "raw_features = raw_data[:,:-1] # drop the target\n",
    "assert raw_features.shape[1] == len(features)\n",
    "\n",
    "\n",
    "def preprocess_continuous(column):\n",
    "    # convert continuous variables stored as strings to binary by comparing with the median\n",
    "    float_column = column.astype(float)\n",
    "    return (float_column > np.median(float_column)).astype(float).reshape(-1,1)\n",
    "\n",
    "\n",
    "def preprocess_categorical(column):\n",
    "    # convert categorical variables to indicator vectors\n",
    "    values = sorted(set(column))\n",
    "    if len(values) == 2:\n",
    "        values = values[:1]\n",
    "    return np.hstack([column.reshape(-1,1)==v for v in values]).astype(float)\n",
    "\n",
    "\n",
    "preprocessor = collections.defaultdict(lambda: preprocess_categorical)\n",
    "preprocessor.update(dict(\n",
    "    age=preprocess_continuous, \n",
    "    fnlwgt=preprocess_continuous, \n",
    "    education_num=preprocess_continuous,\n",
    "    capital_gain=preprocess_continuous, \n",
    "    capital_loss=preprocess_continuous, \n",
    "    hours_per_week=preprocess_continuous,\n",
    "))\n",
    "\n",
    "# apply appropriate preprocessor to each column of raw_features\n",
    "X_list = [preprocessor[feature](raw_features[:,features.index(feature)]) for feature in features]\n",
    "for feature, X in zip(features, X_list):\n",
    "    assert X.shape[0] == raw_features.shape[0]\n",
    "    print(X.shape[1], '\\t', feature)\n",
    "    \n",
    "make_feature_names = lambda feature, dimension: ['%s_%.2i' % (feature, i) for i in range(dimension)]\n",
    "binary_feature_names_list = [make_feature_names(feature, X.shape[1]) for feature, X in zip(features, X_list)]\n",
    "binary_feature_names = list(itertools.chain(*binary_feature_names_list))\n",
    "\n",
    "X = np.hstack(X_list)\n",
    "assert set(X.flatten()) == {0.0, 1.0}\n",
    "assert len(binary_feature_names) == X.shape[1]"
   ]
  },
  {
   "cell_type": "markdown",
   "metadata": {},
   "source": [
    "Plot the data."
   ]
  },
  {
   "cell_type": "code",
   "execution_count": 3,
   "metadata": {
    "collapsed": false
   },
   "outputs": [
    {
     "name": "stdout",
     "output_type": "stream",
     "text": [
      "\n",
      "X.shape \t (32561, 107)\n",
      "Y.shape \t (32561, 1)\n",
      "\n",
      "mean(Y) 0.240809557446\n"
     ]
    },
    {
     "data": {
      "image/png": "[encoded data removed]",
      "text/plain": [
       "<matplotlib.figure.Figure at 0x110574240>"
      ]
     },
     "metadata": {},
     "output_type": "display_data"
    }
   ],
   "source": [
    "print('')\n",
    "print('X.shape', '\\t', X.shape)\n",
    "print('Y.shape', '\\t', Y.shape)\n",
    "print()\n",
    "print('mean(Y)', np.mean(Y))\n",
    "\n",
    "figure = lambda : plt.figure(figsize=(16,5))\n",
    "figure()\n",
    "plt.imshow(np.hstack((X,Y)))\n",
    "plt.axis('auto')\n",
    "plt.ylabel('data index');\n",
    "plt.gca().set_xticks(list(range(X.shape[1]+1)))\n",
    "plt.gca().set_xticklabels(binary_feature_names+['y'], rotation='vertical')\n",
    "\n",
    "ntrain = 1200\n",
    "ishuffle = np.arange(X.shape[0])\n",
    "np.random.seed(0)\n",
    "np.random.shuffle(ishuffle)\n",
    "itrain = ishuffle[slice(0,ntrain)]\n",
    "itest = ishuffle[slice(ntrain,None)]\n",
    "X_train, Y_train = X[itrain,:], Y[itrain,:]\n",
    "X_test, Y_test = X[itest,:], Y[itest,:]"
   ]
  },
  {
   "cell_type": "markdown",
   "metadata": {},
   "source": [
    "## (3 points) 1A: Naive Bayes: Maximum Likelihood (m.l.)\n",
    "Assume we have dataset $\\mathcal{D}=\\left\\{(\\mathbf{x}_i,y_i\\right)\\}_{i=1,2,\\ldots,n}$ where $\\mathbf{x}_i\\in\\{0,1\\}^d$, $y_i\\in\\{0,1\\}$, $n$ is the number of data points and $d$ the number of features.\n",
    "1. State the independence assumption of the naive Bayes classifier.\n",
    "- Appropriately assume Bernoulli random variables. Letting $p(x_j=1|y=k) = \\rho_{j,k}$ for $k=0,1$ and $p(y=1)=\\mu$, derive the maximum likelihood $\\rho_{j,k}$ and $\\mu$ (that is, the parameters which maximise the likelihood).\n",
    "- Implement a function which computes these maximum likelihood parameters, and call it on ```X_train, Y_train```.\n",
    "- Plot the $\\rho_{j,k}$ (vertical) vs. $j$ (horizontal) using ```plt.plot``` with ```marker='.'```, labeling appropriately.\n",
    "- Print the number of $\\rho_{j,k}$ which are zero.\n",
    "- Explain the problems which zero- (or one-) valued $\\rho_{j,k}$ can lead to.\n",
    "\\"
   ]
  },
  {
   "cell_type": "markdown",
   "metadata": {},
   "source": [
    "### <span style=\"color:blue\">Answer</span>\n",
    "<i>**1.the independence assumption of naive bayes classifier:\n",
    "the the value of features in the data should be independent of the value of the other features given a class variable which means that**\n",
    "$$P(x_i|y,x_1,...,x_{i-1},x_{i+1},...,x_d) = P(x_i|y)$$\n",
    "$$P(x_1,x_2,x_3,..x_d|y)=\\prod_{i=0}^dP(x_i|y)$$ </i>\n",
    "**2.**\n",
    "**we note $x_j^{(i)}$ as feature $x_j$ in $i$ th data point**\n",
    "\\begin{alignedat}{3}\n",
    "p(\\mathcal{D}|\\{\\rho_{j,k}\\},\\mu)&= \\prod_{i=0}^np(\\mathbf{x}_i,y_i)= \\prod_{i=0}^np(\\mathbf{x}_i|y_i)p(y_i)\\\\\n",
    " &= \\prod_{i=0}^n\\prod_{j=0}^dp(x_j^{(i)}|y_i)p(y_i)\\\\\n",
    " &= \\prod_{i=0}^n\\prod_{j=0}^d\\prod_{k=0}^1\\left[\\rho_{j,k}^{x_j^{(i)}}(1-\\rho_{j,k})^{1-x_j^{(i)}}\\right]^{1(y_i = k)}\\prod_{i=0}^n\\mu^{y_i}(1-\\mu)^{(1-y_i)}\\\\\n",
    "lnp(\\mathcal{D}|\\{\\rho_{j,k}\\},\\mu)&=\\{\\sum_{i=0}^n\\sum_{j=0}^d\\sum_{k=0}^1I(y_i = k)[{x_j^{(i)}}\\ln\\rho_{j,k}+({1-x_j^{(i)}})\\ln(1-\\rho_{j,k})]\\}+\\{\\sum_{i=0}^n[{y_i}\\ln\\mu+(1-y_i)\\ln(1-\\mu)]\\}\\\\\n",
    "\\end{alignedat}\n",
    "\n",
    "<i>**For $\\rho_{jk}$**</i>\n",
    "\n",
    "\\begin{alignedat}{3}\n",
    "\\frac{\\partial (lnp(\\mathcal{D}|\\{\\rho_{j,k}\\},\\mu))}{\\partial(\\rho_{j,k})}& =\\frac{\\partial \\{[\\sum_{i=0}^n{1(y=k)(x_j^{(i)}}\\ln\\rho_{j,k}+({1-x_j^{(i)}})\\ln(1-\\rho_{j,k})]\\}}{\\partial \\rho_{j,k}}\\\\\n",
    "& = \\sum_{i=0}^{n}{x_j^{(i)}\\frac{1(y=k)}{\\rho_{j,k}}}+\\sum_{i=0}^{n}({1-x_j^{(i)}})\\frac{1(y=k)}{1-\\rho_{j,k}} =0\\\\\n",
    "& = \\sum_{i=0}^{n}{\\frac{1(y_i=k,x_j^{(i)} = 1)}{\\rho_{j,k}}}+\\sum_{i=0}^{n}\\frac{1(y_i=k,x_j^{(i)} = 0)}{1-\\rho_{j,k}}=0\\\\\n",
    "\\rho_{j,k} & = \\frac{\\sum_{i=0}^{n}1(y_i=k,x_j^{(i)} = 1)}{\\sum_{i=0}^{n}1(y_i=k,x_j^{(i)} = 0)+\\sum_{i=0}^{n}1(y_i=k,x_j^{(i)} = 1)}\n",
    "\\end{alignedat}\n",
    "**where $1(.)$ is indicator function**  \n",
    "  \n",
    "    \n",
    "     \n",
    "       \n",
    "       \n",
    "<i>\\begin{alignedat}{3}\n",
    "\\rho_{j,k}\n",
    "&= \\frac{count(x_j =1,y = k)}{count(y = k)}\\\\\n",
    "\\end{alignedat}</i> \n",
    "**where function $count(x)$ compute the number of times thatevent x happen**\n",
    "  \n",
    "    \n",
    "    \n",
    "**For $\\mu$**\n",
    "<i>\\begin{alignedat}{3}\n",
    "\\frac{\\ln\\partial p(\\rho_{j,k},\\mu|\\mathcal{D})}{\\partial (\\mu)}&=\\sum_{i=0}^{n}{y_i\\frac{1}{\\mu}}+\\sum_{i=0}^{n}({1-y_i})\\frac{1}{(1-\\mu)} = 0\\\\\n",
    "\\mu & =\\frac{\\sum_{i=0}^{n}y_i}{n}\\\\\n",
    " \\mu& =\\frac{count(y = 1)}{n}\n",
    "\\end{alignedat}</i>\n",
    "\n",
    "\n"
   ]
  },
  {
   "cell_type": "markdown",
   "metadata": {},
   "source": [
    "**3.**"
   ]
  },
  {
   "cell_type": "code",
   "execution_count": 50,
   "metadata": {
    "collapsed": false
   },
   "outputs": [],
   "source": [
    "def ML(X_train, Y_train):\n",
    "    num_k1 = np.sum(Y_train) # the number of data which y = 1\n",
    "    num_k0 = len(Y_train) - num_k1 # the number of data which y = 0\n",
    "    count_1 = np.sum(X_train[Y_train.reshape(1,-1)[0]==1], axis = 0) # number of (x_j = 1 and y = 1)\n",
    "    count_0 = np.sum(X_train[Y_train.reshape(1,-1)[0]==0], axis = 0)# number of (x_j = 1 and y = 0)\n",
    "    rho_j1  = count_1/num_k1 # rho_j1\n",
    "    rho_j0  = count_0/num_k0 # rho_j0\n",
    "    u = num_k1/X_train.shape[0] # mu\n",
    "    return rho_j0, rho_j1, u\n"
   ]
  },
  {
   "cell_type": "markdown",
   "metadata": {},
   "source": [
    "**4.**"
   ]
  },
  {
   "cell_type": "code",
   "execution_count": 51,
   "metadata": {
    "collapsed": false
   },
   "outputs": [
    {
     "data": {
      "image/png": "[encoded data removed]",
      "text/plain": [
       "<matplotlib.figure.Figure at 0x1279cdba8>"
      ]
     },
     "metadata": {},
     "output_type": "display_data"
    }
   ],
   "source": [
    "rho_j0 = ML(X_train,Y_train)[0]\n",
    "rho_j1 = ML(X_train,Y_train)[1]\n",
    "j = [j for j in range(1,X_train.shape[1]+1)]\n",
    "plt.plot(j,rho_j0,\".\")\n",
    "plt.plot(j,rho_j1,\".\")\n",
    "plt.xlabel('j')\n",
    "plt.ylabel('p_jk ')\n",
    "plt.title('p_jk for k =0 and k =1')\n",
    "plt.legend(['k = 0','k = 1'])\n",
    "plt.show()"
   ]
  },
  {
   "cell_type": "markdown",
   "metadata": {},
   "source": [
    "**5.**"
   ]
  },
  {
   "cell_type": "code",
   "execution_count": 52,
   "metadata": {
    "collapsed": false
   },
   "outputs": [
    {
     "name": "stdout",
     "output_type": "stream",
     "text": [
      "the number of zero of p_jk where k = 0 is  15\n",
      "the number of zero of p_jk where k = 1 is  36\n"
     ]
    }
   ],
   "source": [
    "print ('the number of zero of p_jk where k = 0 is ', len(list(filter(lambda x : x == 0,rho_j0))))\n",
    "print ('the number of zero of p_jk where k = 1 is ', len(list(filter(lambda x : x == 0,rho_j1))))"
   ]
  },
  {
   "cell_type": "markdown",
   "metadata": {},
   "source": [
    "**6.**  \n",
    "**If $\\rho_{jk} = 0$ the likilihood of given data will become zero. it assume that feature $x_j$ will never appear in new data. When you try to predict a new data point which contain the feature $x_j$ with $\\rho_{jk}$.The result will always be zero**  \n",
    "**If $\\rho_{jk} =1 $. it assume that the feature $x_j$ will always appear in new data. But truth is new data maybe not has such feature.**"
   ]
  },
  {
   "cell_type": "markdown",
   "metadata": {},
   "source": [
    "## (3 points) 1B: Naive Bayes: Maximum a Posteriori (m.a.p.)\n",
    "Let $\\rho_{j,k}\\sim\\text{Beta}(\\beta)$, with p.d.f. $f_{\\rho_{j,k}}(\\rho)=\\frac{\\rho^{\\beta-1}(1-\\rho)^{\\beta-1}}{Z(\\beta)}$ where $Z$ is a normalisation factor. Assume a uniform prior for $\\mu$.\n",
    "1. Derive the maximum a posteriori $\\rho_{j,k}$ and $\\mu$ given the above prior.\n",
    "- Implement a function which computes these maximum a posteriori parameters.\n",
    "- Verify with ```assert np.allclose()``` that the m.a.p. solution with $\\beta=1$ is identical to the m.l. solution. \n",
    "- Call your function on ```X_train, Y_train``` with $\\beta=10,100,1000$. For each case scatter plot the m.a.p. parameters vs. the m.l. parameters, all on one axis, colored and labelled appropriately.\n",
    "- Give one example of the role of $\\beta$ as evidenced by the plot."
   ]
  },
  {
   "cell_type": "markdown",
   "metadata": {},
   "source": [
    "### <span style=\"color:blue\">Answer</span>\n",
    "**1.**<i>\\begin{alignedat}{3}\n",
    "p(\\{\\rho_{j,k}\\},\\mu|\\mathcal{D}) &=\\frac{p(\\mathcal{D}|\\{\\rho_{j,k}\\},\\mu)p(\\rho_{j,k},\\mu)}{p(\\mathcal{D})}\\\n",
    "\\end{alignedat}</i>\n",
    "\n",
    "<i>**For given $\\mathcal{D}$, $p(\\mathcal{D})$ is a constant number**</i>\n",
    "\n",
    "<i>\\begin{alignedat}{3}\n",
    "p(\\{\\rho_{j,k}\\},\\mu|\\mathcal{D}) &\\propto p(\\mathcal{D},|\\{\\rho_{j,k}\\},\\mu)p(\\{\\rho_{j,k}\\},\\mu)\\\\\n",
    "\\end{alignedat}</i>\n",
    "**Beacuse different $\\rho_{j,k}$ and $\\mu$ are indepent **  \n",
    "   \n",
    "<i>\\begin{alignedat}{3}\n",
    "p(\\{\\rho_{j,k}\\},\\mu|\\mathcal{D}) &\\propto p(\\mathcal{D},|\\{\\rho_{j,k}\\},\\mu)p(\\{\\rho_{j,k}\\},\\mu)\\\\\n",
    "&\\propto p(\\mathcal{D},|\\{\\rho_{j,k}\\},\\mu)\\{\\prod_{j=0}^{d}\\prod_{k=0}^{1}p(\\rho_{j,k})\\}p(\\mu)\\\\\n",
    "&\\propto p(\\mathcal{D},|\\{\\rho_{j,k}\\},\\mu)\\{\\prod_{j=0}^{d}\\prod_{k=0}^{1}f_{\\rho_{j,k}}(\\rho)\\}p(\\mu)\\\\\n",
    "\\end{alignedat}</i>\n",
    "<i>**Assume $\\mu \\sim U(a,b)$, $p(\\mu) = \\frac{1}{a-b}$**</i>\n",
    "$$p(\\{\\rho_{j,k}\\},\\mu|\\mathcal{D})\\propto p(\\mathcal{D},|\\{\\rho_{j,k}\\},\\mu)\\{\\prod_{j=0}^{d}\\prod_{k=0}^{1}f_{\\rho_{j,k}}(\\rho)\\}\\frac{1}{a-b}$$\n",
    "**We already derive $p(\\mathcal{D}|\\{\\rho_{j,k}\\},\\mu)$ in Question 1A so :** \n",
    "<i>\\begin{alignedat}{3}\n",
    "p(\\{\\rho_{j,k}\\},\\mu|\\mathcal{D})\n",
    "&\\propto \\{\\prod_{i=0}^n\\prod_{j=0}^d\\prod_{k=0}^1\\left[\\rho_{j,k}^{x_j^{(i)}}(1-\\rho_{j,k})^{1-x_j^{(i)}}\\right]^{1(y_i = k)}\\}\\{\\prod_{i=0}^n\\mu^{y_i}(1-\\mu)^{(1-y_i)}\\}\\{\\prod_{j=0}^{d}\\prod_{k=0}^{1}\\frac{\\rho_{jk}^{\\beta-1}(1-\\rho_{jk})^{\\beta-1}}{{Z(\\beta)}}\\}\\frac{1}{a-b}\\\\\n",
    "\\end{alignedat}</i>\n",
    "\n",
    "<i>**Because $Z(\\beta)$  and $\\frac{1}{a-b}$ are constants**</i>\n",
    "\n",
    "<i>\\begin{alignedat}{3}\n",
    "p(\\{\\rho_{j,k}\\},\\mu|\\mathcal{D})\n",
    "&\\propto \\{\\prod_{i=0}^n\\prod_{j=0}^d\\prod_{k=0}^1\\left[\\rho_{j,k}^{x_j^{(i)}}(1-\\rho_{j,k})^{1-x_j^{(i)}}\\right]^{1(y_i = k)}\\}\\{\\prod_{i=0}^n\\mu^{y_i}(1-\\mu)^{(1-y_i)}\\}\\{\\prod_{j=0}^{d}\\prod_{k=0}^{1}\\rho_{jk}^{\\beta-1}(1-\\rho_{jk})^{\\beta-1}\\}\\\\\n",
    "\\ln p(\\{\\rho_{j,k}\\},\\mu|\\mathcal{D}) \n",
    "&\\propto \\{\\sum_{i=0}^n\\sum_{j=0}^d\\sum_{k=0}^1I(y_i = k)[{x_j^{(i)}}\\ln\\rho_{j,k}+({1-x_j^{(i)}})\\ln(1-\\rho_{j,k})]\\}\\{\\sum_{i=0}^n[{y_i}\\ln\\mu+(1-y_i)\\ln(1-\\mu)]\\}\\{\\sum_{j=0}^{d}\\sum_{k=0}^{1}[(\\beta-1)\\ln\\rho_{jk}+(\\beta-1)\\ln(1-\\rho_{jk})]\\}\\\\\n",
    "\\end{alignedat}</i>  \n",
    "  \n",
    "  \n",
    "**For ${\\rho_jk}$**\n",
    "<i>\\begin{alignedat}{3}\n",
    "\\frac{\\partial \\ln p(\\{\\rho_{j,k}\\},\\mu|\\mathcal{D})}{\\partial \\rho_{j,k}}\n",
    "& =\\frac{\\partial \\{[\\sum_{i=0}^n{1(y=k)(x_j^{(i)}}\\ln\\rho_{j,k}+({1-x_j^{(i)}})\\ln(1-\\rho_{j,k}))]+ (\\beta-1)\\ln\\rho_{jk}+(\\beta-1)\\ln(1-\\rho_{jk})]\\}}{\\partial \\rho_{j,k}}\\\\\n",
    "& = \\sum_{i=0}^{n}{x_j^{(i)}\\frac{1(y=k)}{\\rho_{j,k}}}+({1-x_j^{(i)}})\\sum_{i=0}^{n}\\frac{1(y=k)}{1-\\rho_{j,k}}+\\frac{\\beta-1}{\\rho_{j,k}}+\\frac{\\beta-1}{1-\\rho_{j,k}} =0\\\\\n",
    "& = \\sum_{i=0}^{n}{\\frac{1(y_i=k,x_j^{(i)} = 1)}{\\rho_{j,k}}}+\\sum_{i=0}^{n}\\frac{1(y_i=k,x_j^{(i)} = 0)}{1-\\rho_{j,k}}+\\frac{\\beta-1}{\\rho_{j,k}}+\\frac{\\beta-1}{1-\\rho_{j,k}} =0\\\\\n",
    "\\rho_{j,k} & = \\frac{\\sum_{i=0}^{n}1(y_i=k,x_j^{(i)} = 1)+\\beta-1}{\\sum_{i=0}^{n}1(y_i=k,x_j^{(i)} = 0)+\\sum_{i=0}^{n}1(y_i=k,x_j^{(i)} = 1)+2\\beta-2}\n",
    "\\end{alignedat}</i>\n",
    "**where $1(.)$ is indicator function**  \n",
    "  \n",
    "    \n",
    "     \n",
    "       \n",
    "       \n",
    "<i>\\begin{alignedat}{3}\n",
    "\\rho_{j,k}\n",
    "&= \\frac{count(x_j =1,y = k)+\\beta-1}{count(y = k)+2\\beta-2}\\\\\n",
    "\\end{alignedat}</i> \n",
    "**where function $count(x)$ compute the number of event x happen**\n",
    "  \n",
    "    \n",
    "    \n",
    "**For $\\mu$**\n",
    "<i>\\begin{alignedat}{3}\n",
    "\\frac{\\ln\\partial p(\\rho_{j,k},\\mu|\\mathcal{D})}{\\partial (\\mu)}&=\\sum_{i=0}^{n}{y_i\\frac{1}{\\mu}}+\\sum_{i=0}^{n}({1-y_i})\\frac{1}{(1-\\mu)} = 0\\\\\n",
    "\\mu & =\\frac{\\sum_{i=0}^{n}y_i}{n}\\\\\n",
    " \\mu& =\\frac{count(y = 1)}{n}\n",
    "\\end{alignedat}</i>"
   ]
  },
  {
   "cell_type": "markdown",
   "metadata": {},
   "source": [
    "**2.**"
   ]
  },
  {
   "cell_type": "code",
   "execution_count": 53,
   "metadata": {
    "collapsed": false
   },
   "outputs": [],
   "source": [
    "def MAP(X_train,Y_train,beta):\n",
    "    num_k1 = np.sum(Y_train) # the number of data which y = 1\n",
    "    num_k0 = len(Y_train) - num_k1 # the number of data which y = 0\n",
    "    count_1 = np.sum(X_train[Y_train.reshape(1,-1)[0]==1],axis = 0) # the number of (x_j =1 ,y = 0)\n",
    "    count_0 = np.sum(X_train[Y_train.reshape(1,-1)[0]==0],axis = 0) # the number of (x_j =1 ,y = 1)\n",
    "    rho_j1  = (count_1+beta -1)/(num_k1+2*beta-2)\n",
    "    rho_j0  = (count_0+beta -1)/(num_k0+2*beta-2)\n",
    "    return rho_j0,rho_j1,num_k1/len(Y_train)"
   ]
  },
  {
   "cell_type": "markdown",
   "metadata": {},
   "source": [
    "**3.**"
   ]
  },
  {
   "cell_type": "code",
   "execution_count": 54,
   "metadata": {
    "collapsed": false
   },
   "outputs": [],
   "source": [
    "#Verify that the m.a.p. solution with  beta = 1 is identical to the m.l. solution.\n",
    "assert np.allclose(MAP(X_train,Y_train,1)[0],ML(X_train,Y_train)[0])# verify rho_j0\n",
    "assert np.allclose(MAP(X_train,Y_train,1)[1],ML(X_train,Y_train)[1])# verify rho_j1\n",
    "assert np.allclose(MAP(X_train,Y_train,1)[2],ML(X_train,Y_train)[2])# verify mu"
   ]
  },
  {
   "cell_type": "markdown",
   "metadata": {},
   "source": [
    "**4.**"
   ]
  },
  {
   "cell_type": "code",
   "execution_count": 55,
   "metadata": {
    "collapsed": false
   },
   "outputs": [],
   "source": [
    "rho_j1_ML = ML(X_train,Y_train)[1]\n",
    "rho_j1_10_MAP = MAP(X_train,Y_train,10)[1]\n",
    "rho_j1_100_MAP = MAP(X_train,Y_train,100)[1]\n",
    "rho_j1_1000_MAP = MAP(X_train,Y_train,1000)[1]\n",
    "\n",
    "rho_j0_ML = ML(X_train,Y_train)[0]\n",
    "rho_j0_10_MAP = MAP(X_train,Y_train,10)[0]\n",
    "rho_j0_100_MAP = MAP(X_train,Y_train,100)[0]\n",
    "rho_j0_1000_MAP = MAP(X_train,Y_train,1000)[0]"
   ]
  },
  {
   "cell_type": "code",
   "execution_count": 56,
   "metadata": {
    "collapsed": false
   },
   "outputs": [
    {
     "data": {
      "image/png": "[encoded data removed]",
      "text/plain": [
       "<matplotlib.figure.Figure at 0x11082e4a8>"
      ]
     },
     "metadata": {},
     "output_type": "display_data"
    },
    {
     "data": {
      "image/png": "[encoded data removed]",
      "text/plain": [
       "<matplotlib.figure.Figure at 0x1108d7358>"
      ]
     },
     "metadata": {},
     "output_type": "display_data"
    }
   ],
   "source": [
    "plt.plot(rho_j1_ML,rho_j1_10_MAP,\".\")\n",
    "plt.plot(rho_j1_ML,rho_j1_100_MAP,\".\")\n",
    "plt.plot(rho_j1_ML,rho_j1_1000_MAP,\".\")\n",
    "plt.xlabel('ML')\n",
    "plt.ylabel('MAP ')\n",
    "plt.title(\"MAP VS ML for k =1\")\n",
    "plt.legend(['beta = 10', 'beta = 100','beta = 1000'])\n",
    "plt.show()\n",
    "\n",
    "plt.plot(rho_j0_ML,rho_j0_10_MAP,\".\")\n",
    "plt.plot(rho_j0_ML,rho_j0_100_MAP,\".\")\n",
    "plt.plot(rho_j0_ML,rho_j0_1000_MAP,\".\")\n",
    "plt.xlabel('ML')\n",
    "plt.ylabel('MAP ')\n",
    "plt.title(\"MAP VS ML for k =0\")\n",
    "plt.legend(['beta = 10', 'beta = 100','beta = 1000'])\n",
    "plt.show()"
   ]
  },
  {
   "cell_type": "markdown",
   "metadata": {},
   "source": [
    "**5.**\n",
    "**Add $beta$ to model can prevent $\\rho_{j,k}$ become zero and the more beta the less relation it holds between ML and MAP**"
   ]
  },
  {
   "cell_type": "code",
   "execution_count": null,
   "metadata": {
    "collapsed": false
   },
   "outputs": [],
   "source": []
  },
  {
   "cell_type": "code",
   "execution_count": null,
   "metadata": {
    "collapsed": false
   },
   "outputs": [],
   "source": []
  },
  {
   "cell_type": "markdown",
   "metadata": {},
   "source": [
    "## (2 points) 1C: Naive Bayes: Prediction\n",
    "1. Derive the log predictive distribution $\\log p(y=1|\\mathbf{x},\\{\\rho_{j,k}\\},\\mu)$. Where appropriate, implement this by adding log probabilities instead of multiplying probabilities. Use ```np.logaddexp``` to add probabilities stored in log space.\n",
    "- Call the above funcion on ```X_test``` using m.a.p. parameters computed with $\\beta=2$.\n",
    "- Plot a histogram of the probabilities (use ```np.exp``` on the log probabilities) using ```plt.hist``` with ```normed=True,histtype='step',label='your_label'```. Do this for the predictive test probabilities corresponding to ```Y_test==1``` and ```Y_test==0```, puting the histograms on the same plot, labeling appropriately."
   ]
  },
  {
   "cell_type": "markdown",
   "metadata": {},
   "source": [
    "### <span style=\"color:blue\">Answer</span>\n",
    "**1.**<i>$$p(y=1|\\mathbf{x},\\{\\rho_{j,k}\\},\\mu) = \\frac{P(\\mathbf{x},\\{\\rho_{j,k}\\},\\mu|y=1)P(y=1)}{P(\\mathbf{x},\\{\\rho_{j,k}\\},\\mu)}$$</i>\n",
    "**because $\\mu$ is determine given event $y = 1$**  \n",
    "\n",
    "<i>\\begin{alignedat}{3}\n",
    "\\frac{P(\\mathbf{x},\\{\\rho_{j,k}\\},\\mu|y=1)P(y=1)}{P(\\mathbf{x},\\{\\rho_{j,k}\\},\\mu)} &= \n",
    "\\frac{P(\\mathbf{x},\\{\\rho_{j,1}\\}|y=1)\\mu}{P(\\mathbf{x},\\{\\rho_{j,k}\\},\\mu)}\\\\\n",
    "& = \\frac{\\{\\prod_{j=1}^{d}{(P(x_j,\\{\\rho_{j,1}\\}|y=1)}\\}\\mu}{P(\\mathbf{x},\\{\\rho_{j,k}\\},\\mu)}\\\\\n",
    "& = \\frac{\\prod_{j=1}^{d}\\rho_{j,1}^{x_j}(1-\\rho_{j,1})^{1-x_j}\\mu}{P(\\mathbf{x},\\{\\rho_{j,k}\\},\\mu)}\\\\\n",
    "& = \\frac{\\prod_{j=1}^{d}\\rho_{j,1}^{x_j}(1-\\rho_{j,1})^{1-x_j}\\mu}{P(\\mathbf{x},\\{\\rho_{j,k}\\},\\mu|y=1)P(y=1)+P(\\mathbf{x},\\{\\rho_{j,k}\\},\\mu|y=0)P(y=0)}\\\\\n",
    "& = \\frac{\\prod_{j=1}^{d}\\rho_{j,1}^{x_j}(1-\\rho_{j,1})^{1-x_j}\\mu}\n",
    "{\\prod_{j=1}^{d}\\rho_{j,1}^{x_j}(1-\\rho_{j,1})^{1-x_j}\\mu+\\prod_{j=1}^{d}\\rho_{j,0}^{x_j}(1-\\rho_{j,0})^{1-x_j}(1-\\,u)}\n",
    "\\end{alignedat}</i>  \n",
    "\n",
    "**We note that ${\\prod_{j=1}^{d}\\rho_{j,1}^{x_j}(1-\\rho_{j,1})^{1-x_j}\\mu+\\prod_{j=1}^{d}\\rho_{j,0}^{x_j}(1-\\rho_{j,0})^{1-x_j}(1-\\,u)}$ as normlization term $N$**\n",
    "$$\\log p(y=1|\\mathbf{x},\\{\\rho_{j,k}\\},\\mu) = \\sum_{j=1}^{d}{x_j}\\log\\rho_{j,1}+\\sum_{j=1}^{d}{(1-x_j)}\\log(1-\\rho_{j,1})+\\log u - \\log N$$\n",
    "$$\\log N = \\log((e^{\\log \\prod_{j=1}^{d}\\rho_{j,1}^{x_j}(1-\\rho_{j,1})^{1-x_j}\\mu})+(e^{\\log \\prod_{j=1}^{d}\\rho_{j,0}^{x_j}(1-\\rho_{j,0})^{1-x_j}(1-\\mu)}))$$"
   ]
  },
  {
   "cell_type": "code",
   "execution_count": 71,
   "metadata": {
    "collapsed": false
   },
   "outputs": [],
   "source": [
    "# this function compute the log predictive distribution \n",
    "def predic_dis(X,rho_j0,rho_j1,u,k=1,both = False):\n",
    "    pd1 = np.log(u)+ X@np.log(rho_j1)+(1-X)@np.log(1-rho_j1) #compute the unnormlized log distribution of P(x|y=1)\n",
    "    pd0 = np.log(1-u)+ X@np.log(rho_j0)+(1-X)@np.log(1-rho_j0)#compute the unnormlized log distribution of P(x|y=0)\n",
    "    N =np.logaddexp(pd1,pd0) # computer normlized term N\n",
    "    if both:\n",
    "        return pd0-N, pd1-N\n",
    "    return (pd1 if k==1 else pd0)-N"
   ]
  },
  {
   "cell_type": "markdown",
   "metadata": {},
   "source": [
    "**2.**"
   ]
  },
  {
   "cell_type": "code",
   "execution_count": 72,
   "metadata": {
    "collapsed": false
   },
   "outputs": [],
   "source": [
    "rho_j0,rho_j1,u = MAP(X_train,Y_train,2) #using m.a.p. parameters computed with beta = 2.\n",
    "log_p_1 = np.exp(predic_dis(X_test,rho_j0,rho_j1,u,k =1)).reshape(-1,1) #log predictive distribution for y = 1\n",
    "log_p_0 = np.exp(predic_dis(X_test,rho_j0,rho_j1,u,k =0)).reshape(-1,1) #log predictive distribution for y = 0\n"
   ]
  },
  {
   "cell_type": "code",
   "execution_count": 73,
   "metadata": {
    "collapsed": false
   },
   "outputs": [
    {
     "data": {
      "image/png": "[encoded data removed]",
      "text/plain": [
       "<matplotlib.figure.Figure at 0x111d00b00>"
      ]
     },
     "metadata": {},
     "output_type": "display_data"
    }
   ],
   "source": [
    "p_1 =log_p_1[Y_test == 1] # predictive test probabilities corresponding to Y_test==1\n",
    "p_0 =log_p_0[Y_test == 0] # predictive test probabilities corresponding to Y_test==1\n",
    "plt.hist(p_1,normed= True,histtype= 'step',label= 'Y_test==1')\n",
    "plt.hist(p_0,normed= True,histtype= 'step',label= 'Y_test==0')\n",
    "plt.xlabel('Probabilities')\n",
    "plt.ylabel('value')\n",
    "plt.title('histogram of the probabilities')\n",
    "plt.legend(['Y_test==1', 'Y_test==0'])\n",
    "plt.show()"
   ]
  },
  {
   "cell_type": "markdown",
   "metadata": {},
   "source": [
    "## (2 points) 1D: Naive Bayes: Evaluation\n",
    "1. Write a function ```evaluate``` which takes data ```X,Y``` and model parameters $\\rho_{j,k}$ and $\\mu$, and returns a dict with keys ```mean_logp_true``` (for the mean predictive log probability of the ground truth labels ```Y``` given the data matrix ```X``` and ```percent_correct``` (for the percent correctly classified, assuming we classify each datum into the class with maximum predictive probability).\n",
    "- Write a function ```cross_validate(beta, nfolds, X, Y)``` which performs cross validation with ```nfolds``` folds, for hyper parameter $\\beta$. For each split, call your ```evaluate``` function, and return a ```dict``` with averaged results for each evaluation metric. You can make use of our ```xval_inds``` function.\n",
    "- For $\\beta$ in ```np.logspace(np.log10(2),2,32)``` compute the evaluation metrics on the test set, ```X_test, Y_test```, as well as the cross-validated estimates. Make one plot for each metric, showing both results on each (for a total of four curves). Label appropriately."
   ]
  },
  {
   "cell_type": "code",
   "execution_count": 74,
   "metadata": {
    "collapsed": false
   },
   "outputs": [],
   "source": [
    "def xval_inds(ndata, nfolds):\n",
    "    # return a list of (trainind, testind) pairs for ndata data points and nfolds xval folds\n",
    "    assert ndata % nfolds == 0\n",
    "    nchunk = int(ndata / nfolds)\n",
    "    itest = [list(range(i*nchunk,(i+1)*nchunk)) for i in range(int(nfolds))]\n",
    "    itrain = [sorted(set(range(ndata)).difference(set(i))) for i in itest]\n",
    "    return list(zip(itrain, itest))"
   ]
  },
  {
   "cell_type": "markdown",
   "metadata": {},
   "source": [
    "### <span style=\"color:blue\">Answer</span>\n",
    "**1.**"
   ]
  },
  {
   "cell_type": "code",
   "execution_count": 75,
   "metadata": {
    "collapsed": true
   },
   "outputs": [],
   "source": [
    "\n",
    "def evalu(X,Y,rho_j0,rho_j1,u):\n",
    "    pd0,pd1 = predic_dis(X,rho_j0,rho_j1,u,both = True) # predictive log distribution for P(x|y=1) and P(x|y=0)\n",
    "    p0 = pd0.reshape(-1,1)[Y == 0]# predictive log probabilities corresponding to Y=1\n",
    "    p1 = pd1.reshape(-1,1)[Y == 1]# predictive log probabilities corresponding to Y=0\n",
    "    logp_true = np.concatenate((p0, p1), axis=0)\n",
    "    correct = np.concatenate((np.exp(p0)>0.5, np.exp(p1)>0.5), axis=0)\n",
    "    return{'mean_logp_ture': np.mean(logp_true), 'percent_correct': np.mean(correct)}   "
   ]
  },
  {
   "cell_type": "code",
   "execution_count": 76,
   "metadata": {
    "collapsed": false
   },
   "outputs": [],
   "source": [
    "def cross_validate(beta, nfolds, X, Y):\n",
    "    cross  = xval_inds(len(Y),nfolds)\n",
    "    log_t =0\n",
    "    per_cor= 0\n",
    "    for echo in range(0,nfolds):\n",
    "        #print ('echo:',echo,' begin')\n",
    "        X_train =X[cross[echo][0],:] #train set\n",
    "        Y_train =Y[cross[echo][0]]   #trian label\n",
    "        X_test =X[cross[echo][1],:]  #test set\n",
    "        Y_test =Y[cross[echo][1]]    #test label\n",
    "        rho_j0,rho_j1,u = MAP(X_train,Y_train,beta)\n",
    "        re = evalu(X_test,Y_test,rho_j0,rho_j1,u)\n",
    "        log_t += re['mean_logp_ture']\n",
    "        per_cor += re['percent_correct']\n",
    "    return {'mean_logp_ture':log_t/nfolds,'percent_correct': per_cor/nfolds}\n"
   ]
  },
  {
   "cell_type": "code",
   "execution_count": 77,
   "metadata": {
    "collapsed": false
   },
   "outputs": [],
   "source": [
    "eval_mean_log_t =[]\n",
    "eval_per_cor =[]\n",
    "cros_mean_log_t=[]\n",
    "cros_per_cor =[]\n",
    "Beta = np.logspace(np.log10(2),2,32)\n",
    "for beta in Beta:\n",
    "    rho_j0,rho_j1,u = MAP(X_train,Y_train,beta)\n",
    "    eva = evalu(X_test,Y_test,rho_j0,rho_j1,u)\n",
    "    cro = cross_validate(beta, 11, X_test, Y_test)\n",
    "    cros_mean_log_t.append(cro['mean_logp_ture'])\n",
    "    cros_per_cor.append(cro['percent_correct'])\n",
    "    eval_mean_log_t.append(eva['mean_logp_ture'])\n",
    "    eval_per_cor.append(eva['percent_correct'])\n",
    "    "
   ]
  },
  {
   "cell_type": "code",
   "execution_count": 78,
   "metadata": {
    "collapsed": false
   },
   "outputs": [
    {
     "data": {
      "image/png": "[encoded data removed]",
      "text/plain": [
       "<matplotlib.figure.Figure at 0x12799b9e8>"
      ]
     },
     "metadata": {},
     "output_type": "display_data"
    },
    {
     "data": {
      "image/png": "[encoded data removed]",
      "text/plain": [
       "<matplotlib.figure.Figure at 0x11086f5f8>"
      ]
     },
     "metadata": {},
     "output_type": "display_data"
    }
   ],
   "source": [
    "plt.plot(Beta,eval_mean_log_t)\n",
    "plt.plot(Beta,cros_mean_log_t)\n",
    "plt.xlabel('Beta')\n",
    "plt.ylabel('Mean_logp_ture')\n",
    "plt.title('Mean_logp_ture for different beta')\n",
    "plt.legend(['Evaluation', 'Cross validation'])\n",
    "plt.show()\n",
    "plt.plot(Beta,eval_per_cor)\n",
    "plt.plot(Beta,cros_per_cor)\n",
    "plt.xlabel('Beta')\n",
    "plt.ylabel('percent_correct')\n",
    "plt.title('percent_correct')\n",
    "plt.legend(['Evaluation', 'Cross validation'])\n",
    "plt.show()\n"
   ]
  },
  {
   "cell_type": "code",
   "execution_count": null,
   "metadata": {
    "collapsed": false
   },
   "outputs": [],
   "source": []
  },
  {
   "cell_type": "markdown",
   "metadata": {},
   "source": [
    "## (2 points) 1E: Naive Bayes: Discussion\n",
    "1. Explain the shortcomings of our preprocessing of (a) continous variables, and (b) categorical variables. Make note of the assumptions of our model.\n",
    "- Suggest improvements to our data processing pipeline, both in terms of the representation and the model.\n",
    "- Consider the distribution $p(a,b,c)$ where all three variables are binary. How many parameters are needed to specify this distribution (a) in general and (b) if it factorises as $p(a|c)p(b|c)p(c)$?"
   ]
  },
  {
   "cell_type": "markdown",
   "metadata": {},
   "source": [
    "### <span style=\"color:blue\">Answer</span>\n",
    "\n",
    "1. (a) The shortcoming of preprocessing the continous variables by using median splits is unreasonalble. By applying this kind of preprcessing, it assume that split people(data) into two group, but in many case median is not a good point to split. a lot of information will be neglected. (b) The shortcoming of preprocessing the categorical variables by converting it into indicator vector is that it will increase the dimension of the feature. The feature space can really blow up quickly and become sparse when you need to convert many categories.This will result in curse of dimensionality.Plus It will need more training data.  \n",
    "As for assumptions of Navie Bayes Model, it assume the feature are independent of each other in the really word. If there are some causal relation among features. The feature space should be more compact \n",
    "\n",
    "2. \n",
    "For continous variables we can apply mean split.Use mean of feature vector as the split point. \n",
    "For categorical variables we can still convert it into indicator vector. After do that we can use Principal components analysis(PCA) for dimensionality reduction to prevent curse of dimensionality\n",
    "\n",
    "3. (a)For the distribution $p(a,b,c)$ there are 3 boolean variables. If we have a parameter for every possible the variables, there will be $2^{3}$ parameters. But we know that the $2^3$ parameter need to sum to one. the last parameter can be compute by the others. So we only need $2^{3}-1 $parameters (b) For $p(a|c)p(b|c)p(c)$,there are 5 parameters in need. They are\n",
    "$p(a=1|c=0),p(a=1|c=1),p(b=1|c =0),p(b=1|c = 1),p(c=1)$\n"
   ]
  },
  {
   "cell_type": "markdown",
   "metadata": {},
   "source": [
    "## (3 points) 2A: Representation Proof\n",
    "Consider a parametric model governed by the parameter vector $\\mathbf{w}$ together with a dataset of input values $\\mathbf{x}_1,\\ldots,\\mathbf{x}_N$ and a nonlinear feature mapping $\\phi(\\mathbf{x})$. Suppose that the dependence of the error function on $\\mathbf{w}$ takes the form $J(\\mathbf{w}) = f(\\mathbf{w}^\\top \\phi(\\mathbf{x}_1), \\ldots, \\mathbf{w}^\\top \\phi(\\mathbf{x}_N)) + g(\\mathbf{w}^\\top \\mathbf{w})$\n",
    "where $g(\\cdot)$ is a monotonically increasing function. By writing $\\mathbf{w}$ in the form\n",
    "$$\n",
    "\\mathbf{w} = \\sum_{n=1}^N \\alpha_n \\phi(\\mathbf{x}_n) + \\mathbf{w}_\\perp\n",
    "$$\n",
    "show that the value of $\\mathbf{w}$ that minimizes $J(\\mathbf{w})$ takes the form of a linear combination of the basis functions $\\phi(\\mathbf{x}_n)$ for $n = 1, \\ldots, N$."
   ]
  },
  {
   "cell_type": "markdown",
   "metadata": {},
   "source": [
    "### <span style=\"color:blue\">Answer</span>\n",
    "<i>**Consider this error function**\n",
    "$$J(\\mathbf{w}) = f(\\mathbf{w}^\\top \\phi(\\mathbf{x}_1), \\ldots, \\mathbf{w}^\\top \\phi(\\mathbf{x}_N)) + g(\\mathbf{w}^\\top \\mathbf{w}))$$  \n",
    "\n",
    "**where $\\mathbf{w} = (w_0, w_1, w_2, \\dots, w_{M_1})$ , and $\\phi(\\mathbf{x})^T =(\\phi_0(\\mathbf{x}),\\phi_1(\\mathbf{x}),\\phi_2(\\mathbf{x},\\dots,\\phi_{M-1}(\\mathbf{x}))^T$**  \n",
    "  \n",
    "    \n",
    "    \n",
    "\n",
    "<i>**We could also write this in more compact form as**</i>\n",
    "$$J(\\mathbf{w}) = f(\\mathbf{w}^T \\Phi)+g(\\mathbf{w}^\\top \\mathbf{w})$$\n",
    "<i>**where $\\Phi$ is**</i>:\n",
    "$$\n",
    " \\Phi = \\left[\n",
    " \\begin{matrix}\n",
    "   \\phi(x_1) \\\\\n",
    "   \\phi(x_2) \\\\\n",
    "   \\phi(x_3) \\\\\n",
    "   \\dots\\\\\n",
    "   \\phi(x_N)\n",
    "  \\end{matrix}\n",
    "  \\right]\n",
    "$$\n",
    "<i>\\begin{alignedat}{3}\n",
    "\\frac{\\partial J(\\mathbf{w})}{\\partial \\mathbf{w}}& = f^{'}(\\mathbf{w}^T \\Phi)\\Phi+2g^{'}(\\mathbf{w}^T\\mathbf{w})\\mathbf{w}&\\\\\n",
    "\\end{alignedat}\n",
    "**Try to find $\\mathbf{w}$ that minimizes $J(\\mathbf{w})$ which makes$\\frac{\\partial J(\\mathbf{w})}{\\partial \\mathbf{w}}=0$**\n",
    "<i>\\begin{alignedat}{3}\n",
    " -2g^{'}(\\mathbf{w}^T\\mathbf{w})\\mathbf{w} &=f^{'}(\\mathbf{w}^T \\Phi)\\Phi\\\\\n",
    "\\end{alignedat}</i>\n",
    "<i>**$g(\\cdot)$ is a monotonically increasing function so $g^{'}(\\mathbf{w}^T\\mathbf{w})>0$**</i>\n",
    "\\begin{alignedat}{3}\n",
    "\\mathbf{w} &=\\frac{f^{'}(\\mathbf{w}^T \\Phi)\\Phi}{-2g^{'}(\\mathbf{w}^T\\mathbf{w})}\\\\\n",
    "\\mathbf{w} &=\\Phi \\mathbf{a}\\\\\n",
    "& = \\sum_{i=1}^N a_n\\phi(x_n)\n",
    "\\end{alignedat}\n",
    "<i> **where $\\mathbf{a} = (a_1,a_2,\\dots,a_N)^T$ with components**</i>\n",
    "$$a_n = -\\frac{f^{'}(\\mathbf{w}^T \\phi_n)}{2g^{'}(\\mathbf{w}^T\\mathbf{w})}$$\n",
    "\n"
   ]
  },
  {
   "cell_type": "markdown",
   "metadata": {
    "deletable": true,
    "editable": true
   },
   "source": [
    "## (2 points) Maximum likelihood (ML) and Maximum A Posteriori (MAP)\n",
    "We assume data samples $X_n = \\{ x_1,\\dots,x_n \\}$ are generated i.i.d. from a uniform distribution\n",
    "$ \\DUniform{x}{0}{\\theta} $ between $ 0 $ and an unknown positive parameter $\\theta$:\n",
    "$$\n",
    "   p(x \\Cond \\theta) = \\DUniform{x}{0}{\\theta} = \n",
    "\\begin{cases}\n",
    " 1/\\theta & 0 \\leq x \\leq \\theta \\\\\n",
    " 0        & \\textrm{otherwise} \\\\\n",
    "\\end{cases}\n",
    "$$\n",
    "\n",
    "Assume the data samples $ X_4 = \\{ 5, 7, 3, 9 \\}$ have been observed.\n",
    "\n",
    "1. Calculate $\\theta_{ML} = \\argmax_{\\theta} p(X_4 \\Cond \\theta)$, \n",
    "the maximum likelihood estimate of $\\theta$ for the observed data.\n",
    "\n",
    "- Calculate $p(\\theta \\Cond X_4)$, the posterior distribution of $\\theta$ given that the \n",
    "data $ X_4 $ have been observed and \n",
    "the initial distribution for $\\theta$ is given as $p(\\theta) = p(\\theta \\Cond X_0) = \\DUniform{x}{0}{10}$.\n",
    "\n",
    "- Calculate $\\theta_{MAP} = \\argmax_{\\theta} p(\\theta \\Cond X_4)$, the maximum a posteriori\n",
    "estimate of $\\theta$ given the data $ X_4 $ and the initial distribution $p(\\theta)$ as in the previous question.\n",
    "\n",
    "- Calculate $\\theta_{ML}$, $p(\\theta \\Cond X_4)$, and $\\theta_{MAP}$ for the case that the observed data are $ X_4 = \\{ 9, 5, 7, 3 \\}$ instead of the $ X_4 = \\{ 5, 7, 3, 9 \\}$ given above."
   ]
  },
  {
   "cell_type": "markdown",
   "metadata": {
    "deletable": true,
    "editable": true
   },
   "source": [
    "### <span style=\"color:blue\">Answer</span>\n",
    "<i>**1.  \n",
    "Because$X_n = \\{ x_1,\\dots,x_n \\}$ are generated i.i.d, the likelihood function can write in such form\n",
    "$$p(X_4 \\Cond \\theta) = \\prod_{i=1}^{4}p(x_i \\Cond \\theta)=\\prod_{i=0}^{4}\\DUniform{x_i}{0}{\\theta}$$\n",
    "We observed that if $\\theta < Max(\\{ x_1,\\dots,x_n \\})$,one or more of $\\DUniform{x_i}{0}{\\theta} = 0$,so the likelihood function equals $0$  \n",
    "the likelihood function can be writen in this form:\n",
    "\\begin{equation}\n",
    "p(X_4 \\Cond \\theta)=\n",
    "\\left\\{\n",
    "\\begin{array}{rl}\n",
    "&0, \\theta < 9\\\\\n",
    "&\\frac{1}{\\theta^4}, \\theta >= 9\\\\\n",
    "\\end{array}\n",
    "\\right.\n",
    "\\end{equation}\n",
    "because $\\frac{1}{\\theta^4}$ is a monotonically decreasing function and get the maximum value at $\\theta = 9$\n",
    "so : \n",
    "$$\\theta_{ML} = \\argmax_{\\theta} p(X_4 \\Cond \\theta) = 9$$\n",
    "**</i>\n",
    "**2.**\n",
    "\\begin{alignedat}{3}\n",
    "p(\\theta |\\{5\\}) &= \\frac{p(\\{5\\}|\\theta)p(\\theta)}{\\int_0^{10}p(\\{5\\}|\\theta)p(\\theta)d\\theta} \n",
    "                  = \\frac{p(\\{5\\}|\\theta)p(\\theta)}{\\int_0^{5}p(\\{5\\}|\\theta)p(\\theta)d\\theta + \\int_5^{10}p(\\{5\\}|\\theta)d\\theta}=\n",
    "\\begin{equation}\n",
    "\\left\\{\n",
    "\\begin{array}{rl}\n",
    "&0, else\\\\\n",
    "&(\\theta \\int_5^{10}\\theta^{-1} d\\theta)^{-1}, 5\\leq\\theta\\leq 10\\\\\n",
    "\\end{array}\n",
    "\\right.\n",
    "\\end{equation}\\\\\n",
    "\\end{alignedat}\n",
    "\n",
    "\\begin{alignedat}{3}\n",
    "p(\\theta |\\{5,7\\}) &= \\frac{p(\\{7\\}|\\theta)p(\\theta |\\{5\\})}{\\int_0^{10}p(\\{7\\}|\\theta)p(\\theta |\\{5\\})d\\theta} =\n",
    "\\begin{equation}\n",
    "\\left\\{\n",
    "\\begin{array}{rl}\n",
    "&0, else\\\\\n",
    "&\\left(\\theta^{2}\\int_7^{10}\\theta^{-2} d\\theta \\right)^{-1}, 7\\leq\\theta \\leq10\\\\\n",
    "\\end{array}\n",
    "\\right.\n",
    "\\end{equation}\\\\\n",
    "\\end{alignedat}\n",
    "\n",
    "\\begin{alignedat}{3}\n",
    "p(\\theta |\\{5,7,3\\}) &= \\frac{p(\\{3\\}|\\theta)p(\\theta |\\{5,7\\})}{\\int_0^{10}p(\\{3\\}|\\theta)p(\\theta |\\{5,7\\})d\\theta} =\n",
    "\\begin{equation}\n",
    "\\left\\{\n",
    "\\begin{array}{rl}\n",
    "&0, else\\\\\n",
    "&\\left(\\theta^{3}\\int_7^{10}\\theta^{-3} d\\theta \\right)^{-1}, 7\\leq\\theta\\leq10\\\\\n",
    "\\end{array}\n",
    "\\right.\n",
    "\\end{equation}\\\\\n",
    "\\end{alignedat}\n",
    "\n",
    "\\begin{alignedat}{3}\n",
    "p(\\theta|X_4)=p(\\theta |\\{5,7,3,9\\}) &= \\frac{p(\\{9\\}|\\theta)p(\\theta |\\{5,7,3\\})}{\\int_0^{10}p(\\{9\\}|\\theta)p(\\theta |\\{5,7,3\\})d\\theta} =\n",
    "\\begin{equation}\n",
    "\\left\\{\n",
    "\\begin{array}{rl}\n",
    "&0, else\\\\\n",
    "&\\left(\\theta^{4}\\int_9^{10}\\theta^{-4} d\\theta \\right)^{-1}, 9\\leq\\theta\\leq 10\\\\\n",
    "\\end{array}\n",
    "\\right.\n",
    "\\end{equation}\\\\\n",
    "\\end{alignedat}\n",
    "\n"
   ]
  },
  {
   "cell_type": "markdown",
   "metadata": {},
   "source": [
    "**3. \n",
    "Because $p(\\theta|X_4)$ is a monotonically decreasing function and get the maximum value at $\\theta = 9$\n",
    "so : **  \n",
    "\n",
    "$$\\theta_{MAP} = \\argmax_{\\theta} p(\\theta \\Cond X_4) = 9$$"
   ]
  },
  {
   "cell_type": "markdown",
   "metadata": {},
   "source": [
    "**4.The value remains same regardless the order so **\n",
    "\\begin{alignedat}{3}\n",
    "\\theta_{ML} & = 9\\\\\n",
    "\\theta_{MAP} & = 9\\\\\n",
    "p(\\theta|X_4) &=\n",
    "\\begin{equation}\n",
    "\\left\\{\n",
    "\\begin{array}{rl}\n",
    "&0, else\\\\\n",
    "&\\left(\\theta^{4}\\int_9^{10}\\theta^{-4} d\\theta \\right)^{-1}, 9 \\leq\\theta \\leq 10\\\\\n",
    "\\end{array}\n",
    "\\right.\n",
    "\\end{equation}\\\\\n",
    "\\end{alignedat}"
   ]
  },
  {
   "cell_type": "markdown",
   "metadata": {
    "deletable": true,
    "editable": true
   },
   "source": [
    "## (2 points) Laplace Approximation\n",
    "The function\n",
    "$$\n",
    "  f(z) = z^k e^{-z^2/2} \\qquad \\qquad z \\in [0, \\infty), \\qquad k > 0\n",
    "$$\n",
    "can be considered as an (unnormalised) probability density.\n",
    "\n",
    "1. Verify that it is possible to approximate $ f(z) $ with the Laplace Approximation.\n",
    "\n",
    "- Using the Laplace Approximation, find the mean and the variance of the Normal Distribution which best approximates the normalised version of $ f(z) $.\n",
    "\n",
    "- The analytical form of the normalisation of $ f(x) $ is not so easy to find. Therefore, use Python to implement a numerical approximation using $ N = 100 $ identically sized intervals between $ 0 $ and $ a = 10 $ to calculate the normalisation \n",
    "$$\n",
    "  \\int_0^{\\infty} f(z) \\mathrm{d}z \n",
    "  \\approx \\int_0^{a} z^k e^{-z^2/2} \\mathrm{d}z \n",
    "  \\approx \\sum_{i=1}^{100} \\dots\n",
    "$$\n",
    "and report the results for the normalisation with a \n",
    "precision of $5$ digits after the comma for the three cases $ k = \\{0.5, 3, 5 \\}$.\n",
    "            \n",
    "- For each of the three cases $ k = \\{0.5, 3, 5 \\}$, plot the normalised function $ f(z) $\n",
    "and the corresponding Normal Distribution with parameters  resulting from the Laplace Approximation.\n",
    "\n",
    "- Why is it reasonable to replace the upper limit of $ \\infty$ with $ a = 10 $ ?"
   ]
  },
  {
   "cell_type": "markdown",
   "metadata": {
    "deletable": true,
    "editable": true
   },
   "source": [
    "### <span style=\"color:blue\">Answer</span>\n"
   ]
  },
  {
   "cell_type": "markdown",
   "metadata": {
    "collapsed": true
   },
   "source": [
    "**1.** \n",
    "\\begin{alignedat}{3}\n",
    "lnf(z)&=klnz+(-\\frac{z^2}{2})\\\\\n",
    "\\frac{d({lnf(z)})}{d{z}}& = \\frac{k}{z}-z =0\\\\\n",
    "z^2&=k\n",
    "\\end{alignedat}\n",
    "**where $z>0$ so $z_0 = \\sqrt{k}$**\n",
    "\\begin{alignedat}{3}\n",
    "\\frac{d^2({lnf(z)})}{d^2{z}}& = -\\frac{k}{z^2}-1\\\\\n",
    "& = -(\\frac{k}{z^2}+1)<0\\\\\n",
    "\\end{alignedat}\n",
    "** So it is possible to approximate  $f(z)$  with the Laplace Approximation.\n",
    "**"
   ]
  },
  {
   "cell_type": "markdown",
   "metadata": {},
   "source": [
    "**2.**  \n",
    "**We consider $A=-\\frac{d^2({lnf(z)})}{d^2{z}}\\Cond_{z=z_0} =\\frac{k}{z_0^2}+1 =2$**  \n",
    "**Taylor expansion of $ln f(z)$ at $z_0$**\n",
    "\\begin{alignedat}{3}\n",
    "lnf(z)&\\backsimeq lnf(z_0)-\\frac{A}{2}(z-z_0)^2\\\\\n",
    "f(z)&\\backsimeq f(z_0)e^{-\\frac{A}{2}(z-z_0)^2}\n",
    "\\end{alignedat}\n",
    "**if we note the normalised version of $f(z)$ as $q(z)$**\n",
    "$$q(z) = (\\frac{A}{2\\pi})^{\\frac{1}{2}}e^{-\\frac{A}{2}(z-z_0)^2}$$\n",
    "$$q(z) = (\\frac{1}{\\pi})^{\\frac{1}{2}}e^{-(z-\\sqrt{k})^2}$$\n",
    "$$Mean = \\sqrt{k}$$\n",
    "$$Var = \\frac{1}{2}$$"
   ]
  },
  {
   "cell_type": "markdown",
   "metadata": {},
   "source": [
    "**3.**"
   ]
  },
  {
   "cell_type": "code",
   "execution_count": 79,
   "metadata": {
    "collapsed": false
   },
   "outputs": [
    {
     "name": "stdout",
     "output_type": "stream",
     "text": [
      "1.01353558704\n",
      "1.98000086093\n",
      "7.9199999958\n"
     ]
    }
   ],
   "source": [
    "def Num_approx(a,N,k):\n",
    "    deta_x = a/N\n",
    "    v = np.linspace(0, a, num=N)\n",
    "    y = list(map(lambda z: (z**k) * np.exp(-z**2/2),v))\n",
    "    result = sum(list(map(lambda x:x * deta_x, y)))\n",
    "    return result\n",
    "print(Num_approx(10, 100, 0.5))\n",
    "print(Num_approx(10, 100, 3))\n",
    "print(Num_approx(10, 100, 5))"
   ]
  },
  {
   "cell_type": "markdown",
   "metadata": {},
   "source": [
    "** The normalisation for $k = 0.5$ is $1.01353$**  \n",
    "** The normalisation for $k = 3$ is $1.98000$**  \n",
    "** The normalisation for $k = 0.5$ is $7.92000$**"
   ]
  },
  {
   "cell_type": "markdown",
   "metadata": {
    "collapsed": false
   },
   "source": [
    "**4.**"
   ]
  },
  {
   "cell_type": "code",
   "execution_count": 80,
   "metadata": {
    "collapsed": true
   },
   "outputs": [],
   "source": [
    "def f_norm(z,k):\n",
    "    return np.array(list(map(lambda x: (x**k)*math.exp(-x**2/2),z)))/Num_approx(10,100,k)\n",
    "def Lap_approx(z,k):\n",
    "    return np.array(list(map(lambda x: math.sqrt((1/math.pi))*math.exp(-(x-math.sqrt(k))**2), z)))\n"
   ]
  },
  {
   "cell_type": "code",
   "execution_count": 81,
   "metadata": {
    "collapsed": false
   },
   "outputs": [
    {
     "data": {
      "image/png": "[encoded data removed]",
      "text/plain": [
       "<matplotlib.figure.Figure at 0x111c95b70>"
      ]
     },
     "metadata": {},
     "output_type": "display_data"
    }
   ],
   "source": [
    "x= np.linspace(0, 10, num=100)\n",
    "y_norm_05 = f_norm(x,0.5)\n",
    "y_Lap_05 = Lap_approx(x,0.5)\n",
    "y_norm_3 = f_norm(x,3)\n",
    "y_Lap_3 = Lap_approx(x,3)\n",
    "y_norm_5 = f_norm(x,5)\n",
    "y_Lap_5 = Lap_approx(x,5)\n",
    "plt.plot(x,y_Lap_05)\n",
    "plt.plot(x,y_norm_05)\n",
    "plt.plot(x,y_Lap_3)\n",
    "plt.plot(x,y_norm_3)\n",
    "plt.plot(x,y_Lap_5)\n",
    "plt.plot(x,y_norm_5)\n",
    "plt.xlabel('z')\n",
    "plt.ylabel('f(z)')\n",
    "plt.title('normalised function f(z) and the corresponding Normal Distribution with different k ')\n",
    "plt.legend(['Normal Distribution for k = 0.5', 'Normalised function f(z) for k= 0.5',\n",
    "           'Normal Distribution for k = 3', 'Normalised function f(z) for k = 3',\n",
    "           'Normal Distribution for k = 5', 'Normalised function f(z) for k= 5'])\n",
    "plt.show()"
   ]
  },
  {
   "cell_type": "markdown",
   "metadata": {},
   "source": [
    "**5.**"
   ]
  },
  {
   "cell_type": "code",
   "execution_count": 82,
   "metadata": {
    "collapsed": false
   },
   "outputs": [
    {
     "data": {
      "image/png": "[encoded data removed]",
      "text/plain": [
       "<matplotlib.figure.Figure at 0x110745208>"
      ]
     },
     "metadata": {},
     "output_type": "display_data"
    },
    {
     "data": {
      "image/png": "[encoded data removed]",
      "text/plain": [
       "<matplotlib.figure.Figure at 0x1122bfeb8>"
      ]
     },
     "metadata": {},
     "output_type": "display_data"
    }
   ],
   "source": [
    "z = np.linspace(0, 15, num=100)\n",
    "f_z_05 = list(map(lambda z:(z**0.5)*math.exp(-z**2/2),z))\n",
    "f_z_3 = list(map(lambda z:(z**3)*math.exp(-z**2/2),z))\n",
    "f_z_5 = list(map(lambda z:(z**5)*math.exp(-z**2/2),z))\n",
    "plt.plot(z,f_z_05)\n",
    "plt.plot(z,f_z_3)\n",
    "plt.plot(z,f_z_5)\n",
    "plt.xlabel('z')\n",
    "plt.ylabel('f(z)')\n",
    "plt.title('f(z) in range (0,15)')\n",
    "plt.legend(['f(z) with k =0.5','f(z) with k =3','f(z) with k =5'])\n",
    "plt.show()\n",
    "z = np.linspace(9, 15, num=100)\n",
    "f_z_05 = list(map(lambda z:(z**0.5)*math.exp(-z**2/2),z))\n",
    "f_z_3 = list(map(lambda z:(z**3)*math.exp(-z**2/2),z))\n",
    "f_z_5 = list(map(lambda z:(z**5)*math.exp(-z**2/2),z))\n",
    "plt.plot(z,f_z_05)\n",
    "plt.plot(z,f_z_3)\n",
    "plt.plot(z,f_z_5)\n",
    "plt.xlabel('z')\n",
    "plt.ylabel('f(z)')\n",
    "plt.title('f(z) in range (9,15)')\n",
    "plt.legend(['f(z) with k =0.5','f(z) with k =3','f(z) with k =5'])\n",
    "plt.show()\n"
   ]
  },
  {
   "cell_type": "markdown",
   "metadata": {
    "collapsed": true
   },
   "source": [
    "**I plot the $f(z)$ with $k = 0.5 ,3 ,5$ respectively with in range$(0,15)$ and range $(9,15)$, we can see from the pitcture, when $z > 10$, $f(z)\\approx 0$  \n",
    "$$\\int_0^{\\infty} f(z) \\mathrm{d}z = \\int_0^{a} f(z) \\mathrm{d}z + \\int_a^{\\infty} f(z) \\mathrm{d}z$$  \n",
    "When $z > 10$, $f(z)\\approx 0$, so $\\int_a^{\\infty} f(z) \\mathrm{d}z \\approx 0$  \n",
    "$$  \\int_0^{\\infty} f(z) \\mathrm{d}z \n",
    "  \\approx \\int_0^{a} z^k e^{-z^2/2} \\mathrm{d}z $$**"
   ]
  },
  {
   "cell_type": "code",
   "execution_count": null,
   "metadata": {
    "collapsed": false
   },
   "outputs": [],
   "source": []
  },
  {
   "cell_type": "code",
   "execution_count": null,
   "metadata": {
    "collapsed": false
   },
   "outputs": [],
   "source": []
  },
  {
   "cell_type": "code",
   "execution_count": null,
   "metadata": {
    "collapsed": false
   },
   "outputs": [],
   "source": []
  },
  {
   "cell_type": "code",
   "execution_count": null,
   "metadata": {
    "collapsed": false
   },
   "outputs": [],
   "source": [
    "\n"
   ]
  },
  {
   "cell_type": "code",
   "execution_count": null,
   "metadata": {
    "collapsed": true
   },
   "outputs": [],
   "source": []
  },
  {
   "cell_type": "code",
   "execution_count": 45,
   "metadata": {
    "collapsed": false
   },
   "outputs": [],
   "source": []
  }
 ],
 "metadata": {
  "anaconda-cloud": {},
  "kernelspec": {
   "display_name": "Python 3",
   "language": "python",
   "name": "python3"
  },
  "language_info": {
   "codemirror_mode": {
    "name": "ipython",
    "version": 3
   },
   "file_extension": ".py",
   "mimetype": "text/x-python",
   "name": "python",
   "nbconvert_exporter": "python",
   "pygments_lexer": "ipython3",
   "version": "3.6.0"
  }
 },
 "nbformat": 4,
 "nbformat_minor": 0
}
